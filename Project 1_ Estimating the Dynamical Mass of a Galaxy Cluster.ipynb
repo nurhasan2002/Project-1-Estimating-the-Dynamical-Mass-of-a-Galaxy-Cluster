{
 "cells": [
  {
   "cell_type": "markdown",
   "metadata": {},
   "source": [
    "# Estimating the Dynamical Mass of a Galaxy Cluster \n",
    "## Nur Hasan Mondal\n",
    "### swarajmondal2002@gmail.com"
   ]
  },
  {
   "cell_type": "markdown",
   "metadata": {},
   "source": [
    "### Step 1: Importing Necessary Libraries\n",
    "We begin by importing Python libraries commonly used in data analysis and visualization:\n",
    "- `numpy` for numerical operations\n",
    "- `matplotlib.pyplot` for plotting graphs\n",
    "- `pandas` (commented out here) for handling CSV data, which is especially useful for tabular data such as redshift catalogs\n",
    "\n",
    "> Tip: If you haven’t used `pandas` before, it’s worth learning as it offers powerful tools to manipulate and analyze structured datasets.\n"
   ]
  },
  {
   "cell_type": "markdown",
   "metadata": {},
   "source": [
    "For reading big csv files, one can use numpy as well as something called \"pandas\". We suggest to read pandas for CSV file reading and use that"
   ]
  },
  {
   "cell_type": "code",
   "execution_count": 1,
   "metadata": {},
   "outputs": [],
   "source": [
    " import numpy as np\n",
    " import matplotlib.pyplot as plt\n",
    " import pandas as pd\n",
    " from astropy.constants import G, c\n",
    " from astropy.cosmology import Planck18 as cosmo\n",
    " import astropy.units as u"
   ]
  },
  {
   "cell_type": "markdown",
   "metadata": {},
   "source": [
    "\n",
    "Before we begin calculations, we define key physical constants used throughout:\n",
    "\n",
    "- $ H_0 $: Hubble constant, describes the expansion rate of the Universe.\n",
    "- $c$ : Speed of light.\n",
    "-  $G$: Gravitational constant.\n",
    "- $q_0$ : Deceleration parameter, used for approximate co-moving distance calculations.\n",
    "\n",
    "We will use **`astropy.constants`** to ensure unit consistency and precision."
   ]
  },
  {
   "cell_type": "code",
   "execution_count": 2,
   "metadata": {},
   "outputs": [],
   "source": [
    "# Constants:\n",
    "\n",
    "H_0 = 2.2683e-18  # Hubble constant in SI (1/s)\n",
    "c = 299792458     # Speed of light in m/s\n",
    "G = 4.302e-3      # Gravitational constant in pc⋅(km/s)^2⋅M☉⁻¹\n",
    "q0 = -0.534       # Deceleration parameter (assumed from Planck fit, KEEP it as it is)"
   ]
  },
  {
   "cell_type": "markdown",
   "metadata": {},
   "source": [
    "Read the csv data into the python using the method below"
   ]
  },
  {
   "cell_type": "code",
   "execution_count": 3,
   "metadata": {},
   "outputs": [
    {
     "name": "stderr",
     "output_type": "stream",
     "text": [
      "C:\\Users\\Dell\\AppData\\Local\\Temp\\ipykernel_8256\\74078846.py:4: FutureWarning: The 'delim_whitespace' keyword in pd.read_csv is deprecated and will be removed in a future version. Use ``sep='\\s+'`` instead\n",
      "  df = pd.read_csv(file_path, delim_whitespace=True, comment=\"#\")\n"
     ]
    }
   ],
   "source": [
    "\n",
    "# Local file path\n",
    "file_path = r\"C:\\Users\\Dell\\Downloads\\Skyserver_SQL6_27_2025 1_59_27 PM.csv\"\n",
    "# Load the file\n",
    "df = pd.read_csv(file_path, delim_whitespace=True, comment=\"#\")\n",
    "\n",
    "# See structure\n"
   ]
  },
  {
   "cell_type": "markdown",
   "metadata": {},
   "source": [
    "### 📊 Calculating the Average Spectroscopic Redshift (`specz`) for Each Object\n",
    "\n",
    "When working with astronomical catalogs, an object (identified by a unique `objid`) might have multiple entries — for example, due to repeated observations. To reduce this to a single row per object, we aggregate the data using the following strategy:\n",
    "\n",
    "```python\n",
    "averaged_df = df.groupby('objid').agg({\n",
    "    'specz': 'mean',        # Take the mean of all spec-z values for that object\n",
    "    'ra': 'first',          # Use the first RA value (assumed constant for the object)\n",
    "    'dec': 'first',         # Use the first Dec value (same reason as above)\n",
    "    'proj_sep': 'first'     # Use the first projected separation value\n",
    "}).reset_index()\n"
   ]
  },
  {
   "cell_type": "code",
   "execution_count": 4,
   "metadata": {},
   "outputs": [
    {
     "name": "stdout",
     "output_type": "stream",
     "text": [
      "Index(['objid', 'ra', 'dec', 'photoz', 'photozerr', 'specz', 'speczerr',\n",
      "       'proj_sep', 'umag', 'umagerr', 'gmag', 'gmagerr', 'rmag', 'rmagerr',\n",
      "       'obj_type'],\n",
      "      dtype='object')\n",
      "count    92.000000\n",
      "mean      0.080838\n",
      "std       0.008578\n",
      "min       0.069976\n",
      "25%       0.077224\n",
      "50%       0.080961\n",
      "75%       0.082797\n",
      "max       0.150886\n",
      "Name: specz, dtype: float64\n"
     ]
    }
   ],
   "source": [
    "import pandas as pd\n",
    "\n",
    "# Load the data \n",
    "file_path = \"C:\\\\Users\\\\Dell\\\\Downloads\\\\skyserver_SQL6_27_2025 1_59_27 PM.csv\"\n",
    "df = pd.read_csv(file_path, comment='#')\n",
    "\n",
    "# Check column names\n",
    "print(df.columns)\n",
    "\n",
    "# Strip whitespace from column names (just in case)\n",
    "df.columns = df.columns.str.strip()\n",
    "\n",
    "# Now try to group by correct column\n",
    "averaged_df = df.groupby('objid').agg({\n",
    "    'specz': 'mean',\n",
    "    'ra': 'first',\n",
    "    'dec': 'first',\n",
    "    'proj_sep': 'first'\n",
    "}).reset_index()\n",
    "\n",
    "# Print stats\n",
    "print(averaged_df.describe()['specz'])"
   ]
  },
  {
   "cell_type": "markdown",
   "metadata": {},
   "source": [
    "To create a cut in the redshift so that a cluster can be identified. We must use some logic. Most astronomers prefer anything beyond 3*sigma away from the mean to be not part of the same group. \n",
    "\n",
    "Find the mean, standard deviation and limits of the redshift from the data"
   ]
  },
  {
   "cell_type": "code",
   "execution_count": 5,
   "metadata": {},
   "outputs": [
    {
     "name": "stdout",
     "output_type": "stream",
     "text": [
      "Mean specz: 0.08083762565217394\n",
      "Standard deviation: 0.008577613916301633\n",
      "3-sigma lower limit: 0.05510478390326903\n",
      "3-sigma upper limit: 0.10657046740107884\n"
     ]
    }
   ],
   "source": [
    "# Calculate mean and standard deviation\n",
    "mean_specz = averaged_df['specz'].mean()\n",
    "std_specz = averaged_df['specz'].std()\n",
    "\n",
    "# Define 3-sigma limits\n",
    "lower_limit = mean_specz - 3 * std_specz\n",
    "upper_limit = mean_specz + 3 * std_specz\n",
    "\n",
    "# Display the values\n",
    "print(f\"Mean specz: {mean_specz}\")\n",
    "print(f\"Standard deviation: {std_specz}\")\n",
    "print(f\"3-sigma lower limit: {lower_limit}\")\n",
    "print(f\"3-sigma upper limit: {upper_limit}\")"
   ]
  },
  {
   "cell_type": "markdown",
   "metadata": {},
   "source": [
    "    We can also use boxplot to visualize the overall values of redshift "
   ]
  },
  {
   "cell_type": "code",
   "execution_count": 6,
   "metadata": {},
   "outputs": [
    {
     "data": {
      "image/png": "[encoded data removed]",
      "text/plain": [
       "<Figure size 1000x800 with 2 Axes>"
      ]
     },
     "metadata": {},
     "output_type": "display_data"
    }
   ],
   "source": [
    "# Import required libraries\n",
    "import pandas as pd\n",
    "import seaborn as sns\n",
    "import matplotlib.pyplot as plt\n",
    "\n",
    "# Example to read from CSV file\n",
    "df = pd.read_csv(file_path, comment='#') \n",
    "specz_data = df['specz'].dropna()      \n",
    "\n",
    "# Plot Histogram and Boxplot\n",
    "fig, (ax1, ax2) = plt.subplots(2, 1, figsize=(10, 8))\n",
    "\n",
    "# Histogram\n",
    "sns.histplot(specz_data, kde=True, ax=ax1, color='skyblue', bins=10)\n",
    "ax1.set_title('Histogram of Redshift')\n",
    "ax1.set_xlabel('Redshift')\n",
    "ax1.set_ylabel('Frequency')\n",
    "\n",
    "# Boxplot\n",
    "sns.boxplot(x=specz_data, ax=ax2, color='lightgreen')\n",
    "ax2.set_title('Boxplot of Redshift')\n",
    "ax2.set_xlabel('Redshift')\n",
    "\n",
    "plt.tight_layout()\n",
    "plt.show()"
   ]
  },
  {
   "cell_type": "markdown",
   "metadata": {},
   "source": [
    "But the best plot would be a histogram to see where most of the objects downloaded lie in terms of redshift value"
   ]
  },
  {
   "cell_type": "code",
   "execution_count": 7,
   "metadata": {},
   "outputs": [
    {
     "data": {
      "image/png": "[encoded data removed]",
      "text/plain": [
       "<Figure size 1000x600 with 1 Axes>"
      ]
     },
     "metadata": {},
     "output_type": "display_data"
    }
   ],
   "source": [
    "plt.figure(figsize=(10, 6))\n",
    "plt.hist(averaged_df['specz'], bins=30, color='lightblue', edgecolor='black')\n",
    "plt.title('Histogram of Redshift', fontsize=14)\n",
    "plt.xlabel('Redshift', fontsize=12)\n",
    "plt.ylabel('Frequency', fontsize=12)\n",
    "plt.grid(True, linestyle='--', alpha=0.6)\n",
    "plt.show()"
   ]
  },
  {
   "cell_type": "markdown",
   "metadata": {},
   "source": [
    "Filter my data based on the 3-sigma limit of redshift. We should remove all data points which are 3-sigma away from mean of redshift"
   ]
  },
  {
   "cell_type": "code",
   "execution_count": 8,
   "metadata": {},
   "outputs": [
    {
     "name": "stdout",
     "output_type": "stream",
     "text": [
      "Original data size: 92\n",
      "Filtered data size: 91\n"
     ]
    }
   ],
   "source": [
    "# Calculate mean and standard deviation\n",
    "mean_redshift = averaged_df['specz'].mean()\n",
    "std_redshift = averaged_df['specz'].std()\n",
    "\n",
    "# Apply 3-sigma filter\n",
    "filtered_df = averaged_df[\n",
    "    (averaged_df['specz'] >= mean_redshift - 3 * std_redshift) &\n",
    "    (averaged_df['specz'] <= mean_redshift + 3 * std_redshift)\n",
    "]\n",
    "\n",
    "print(f\"Original data size: {len(averaged_df)}\")\n",
    "print(f\"Filtered data size: {len(filtered_df)}\")"
   ]
  },
  {
   "cell_type": "markdown",
   "metadata": {},
   "source": [
    "Use the relation between redshift and velocity to add a column named velocity in the data. This would tell the expansion velocity at that redshift "
   ]
  },
  {
   "cell_type": "code",
   "execution_count": 9,
   "metadata": {},
   "outputs": [
    {
     "data": {
      "text/html": [
       "<div>\n",
       "<style scoped>\n",
       "    .dataframe tbody tr th:only-of-type {\n",
       "        vertical-align: middle;\n",
       "    }\n",
       "\n",
       "    .dataframe tbody tr th {\n",
       "        vertical-align: top;\n",
       "    }\n",
       "\n",
       "    .dataframe thead th {\n",
       "        text-align: right;\n",
       "    }\n",
       "</style>\n",
       "<table border=\"1\" class=\"dataframe\">\n",
       "  <thead>\n",
       "    <tr style=\"text-align: right;\">\n",
       "      <th></th>\n",
       "      <th>objid</th>\n",
       "      <th>ra</th>\n",
       "      <th>dec</th>\n",
       "      <th>photoz</th>\n",
       "      <th>photozerr</th>\n",
       "      <th>specz</th>\n",
       "      <th>speczerr</th>\n",
       "      <th>proj_sep</th>\n",
       "      <th>umag</th>\n",
       "      <th>umagerr</th>\n",
       "      <th>gmag</th>\n",
       "      <th>gmagerr</th>\n",
       "      <th>rmag</th>\n",
       "      <th>rmagerr</th>\n",
       "      <th>obj_type</th>\n",
       "      <th>velocity_km_s</th>\n",
       "    </tr>\n",
       "  </thead>\n",
       "  <tbody>\n",
       "    <tr>\n",
       "      <th>0</th>\n",
       "      <td>1237671768542478711</td>\n",
       "      <td>257.82458</td>\n",
       "      <td>64.133257</td>\n",
       "      <td>0.079193</td>\n",
       "      <td>0.022867</td>\n",
       "      <td>0.082447</td>\n",
       "      <td>0.000017</td>\n",
       "      <td>8.347733</td>\n",
       "      <td>18.96488</td>\n",
       "      <td>0.043377</td>\n",
       "      <td>17.49815</td>\n",
       "      <td>0.005672</td>\n",
       "      <td>16.75003</td>\n",
       "      <td>0.004708</td>\n",
       "      <td>3</td>\n",
       "      <td>24734.193</td>\n",
       "    </tr>\n",
       "    <tr>\n",
       "      <th>1</th>\n",
       "      <td>1237671768542478711</td>\n",
       "      <td>257.82458</td>\n",
       "      <td>64.133257</td>\n",
       "      <td>0.079193</td>\n",
       "      <td>0.022867</td>\n",
       "      <td>0.082466</td>\n",
       "      <td>0.000014</td>\n",
       "      <td>8.347733</td>\n",
       "      <td>18.96488</td>\n",
       "      <td>0.043377</td>\n",
       "      <td>17.49815</td>\n",
       "      <td>0.005672</td>\n",
       "      <td>16.75003</td>\n",
       "      <td>0.004708</td>\n",
       "      <td>3</td>\n",
       "      <td>24739.899</td>\n",
       "    </tr>\n",
       "    <tr>\n",
       "      <th>2</th>\n",
       "      <td>1237671768542478713</td>\n",
       "      <td>257.83332</td>\n",
       "      <td>64.126043</td>\n",
       "      <td>0.091507</td>\n",
       "      <td>0.014511</td>\n",
       "      <td>0.081218</td>\n",
       "      <td>0.000021</td>\n",
       "      <td>8.011259</td>\n",
       "      <td>20.22848</td>\n",
       "      <td>0.072019</td>\n",
       "      <td>18.38334</td>\n",
       "      <td>0.007763</td>\n",
       "      <td>17.46793</td>\n",
       "      <td>0.005828</td>\n",
       "      <td>3</td>\n",
       "      <td>24365.523</td>\n",
       "    </tr>\n",
       "    <tr>\n",
       "      <th>3</th>\n",
       "      <td>1237671768542544090</td>\n",
       "      <td>257.85137</td>\n",
       "      <td>64.173247</td>\n",
       "      <td>0.081102</td>\n",
       "      <td>0.009898</td>\n",
       "      <td>0.079561</td>\n",
       "      <td>0.000022</td>\n",
       "      <td>8.739276</td>\n",
       "      <td>19.21829</td>\n",
       "      <td>0.050135</td>\n",
       "      <td>17.18970</td>\n",
       "      <td>0.004936</td>\n",
       "      <td>16.22043</td>\n",
       "      <td>0.003769</td>\n",
       "      <td>3</td>\n",
       "      <td>23868.321</td>\n",
       "    </tr>\n",
       "    <tr>\n",
       "      <th>4</th>\n",
       "      <td>1237671768542544090</td>\n",
       "      <td>257.85137</td>\n",
       "      <td>64.173247</td>\n",
       "      <td>0.081102</td>\n",
       "      <td>0.009898</td>\n",
       "      <td>0.079568</td>\n",
       "      <td>0.000019</td>\n",
       "      <td>8.739276</td>\n",
       "      <td>19.21829</td>\n",
       "      <td>0.050135</td>\n",
       "      <td>17.18970</td>\n",
       "      <td>0.004936</td>\n",
       "      <td>16.22043</td>\n",
       "      <td>0.003769</td>\n",
       "      <td>3</td>\n",
       "      <td>23870.316</td>\n",
       "    </tr>\n",
       "  </tbody>\n",
       "</table>\n",
       "</div>"
      ],
      "text/plain": [
       "                 objid         ra        dec    photoz  photozerr     specz  \\\n",
       "0  1237671768542478711  257.82458  64.133257  0.079193   0.022867  0.082447   \n",
       "1  1237671768542478711  257.82458  64.133257  0.079193   0.022867  0.082466   \n",
       "2  1237671768542478713  257.83332  64.126043  0.091507   0.014511  0.081218   \n",
       "3  1237671768542544090  257.85137  64.173247  0.081102   0.009898  0.079561   \n",
       "4  1237671768542544090  257.85137  64.173247  0.081102   0.009898  0.079568   \n",
       "\n",
       "   speczerr  proj_sep      umag   umagerr      gmag   gmagerr      rmag  \\\n",
       "0  0.000017  8.347733  18.96488  0.043377  17.49815  0.005672  16.75003   \n",
       "1  0.000014  8.347733  18.96488  0.043377  17.49815  0.005672  16.75003   \n",
       "2  0.000021  8.011259  20.22848  0.072019  18.38334  0.007763  17.46793   \n",
       "3  0.000022  8.739276  19.21829  0.050135  17.18970  0.004936  16.22043   \n",
       "4  0.000019  8.739276  19.21829  0.050135  17.18970  0.004936  16.22043   \n",
       "\n",
       "    rmagerr  obj_type  velocity_km_s  \n",
       "0  0.004708         3      24734.193  \n",
       "1  0.004708         3      24739.899  \n",
       "2  0.005828         3      24365.523  \n",
       "3  0.003769         3      23868.321  \n",
       "4  0.003769         3      23870.316  "
      ]
     },
     "execution_count": 9,
     "metadata": {},
     "output_type": "execute_result"
    }
   ],
   "source": [
    "# Speed of light in km/s\n",
    "c = 3e5\n",
    "\n",
    "# Filter the data with 3-sigma limits (example limits shown — replace with your values)\n",
    "filtered_df = df[(df['specz'] >= lower_limit) & (df['specz'] <= upper_limit)].copy()\n",
    "\n",
    "# Add velocity column\n",
    "filtered_df['velocity_km_s'] = filtered_df['specz'] * c\n",
    "\n",
    "# Display the dataframe\n",
    "filtered_df.head()"
   ]
  },
  {
   "cell_type": "code",
   "execution_count": 10,
   "metadata": {},
   "outputs": [
    {
     "data": {
      "image/png": "[encoded data removed]",
      "text/plain": [
       "<Figure size 800x600 with 1 Axes>"
      ]
     },
     "metadata": {},
     "output_type": "display_data"
    }
   ],
   "source": [
    "plt.figure(figsize=(8, 6))\n",
    "plt.hist(filtered_df['velocity_km_s'], bins=30, color='skyblue', edgecolor='black')\n",
    "plt.xlabel('Velocity (km/s)')\n",
    "plt.ylabel('Frequency')\n",
    "plt.title('Histogram of Velocity')\n",
    "plt.grid(True)\n",
    "plt.show()"
   ]
  },
  {
   "cell_type": "markdown",
   "metadata": {},
   "source": [
    "use the dispersion equation to find something called velocity dispersion. We can even refer to wikipedia to know about the term [wiki link here](https://en.wikipedia.org/wiki/Velocity_dispersion#:~:text=In%20astronomy%2C%20the%20velocity%20dispersion,%2C%20galaxy%20cluster%2C%20or%20supercluster.)\n",
    "\n",
    "It is the velocity dispersion value which tells us, some galaxies might be part of even larger groups!!"
   ]
  },
  {
   "cell_type": "markdown",
   "metadata": {},
   "source": [
    "### Step 2: Calculate Mean Redshift of the Cluster\n",
    "We calculate the average redshift (`specz`) of galaxies that belong to a cluster. This gives us an estimate of the cluster's systemic redshift.\n",
    "\n",
    "`cluster_redshift = filtered_df['specz'].mean()`\n"
   ]
  },
  {
   "cell_type": "markdown",
   "metadata": {},
   "source": [
    "The velocity dispersion \\( v \\) of galaxies relative to the cluster mean redshift is computed using the relativistic Doppler formula:\n",
    "\n",
    "$$\n",
    "v = c \\cdot \\frac{(1 + z)^2 - (1 + z_{\\text{cluster}})^2}{(1 + z)^2 + (1 + z_{\\text{cluster}})^2}\n",
    "$$\n",
    "where:\n",
    "- \\( v \\) is the relative velocity (dispersion),\n",
    "- \\( z \\) is the redshift of the individual galaxy,\n",
    "- \\( $z_{\\text{cluster}}$ \\) is the mean cluster redshift,\n",
    "- \\( c \\) is the speed of light.\n"
   ]
  },
  {
   "cell_type": "code",
   "execution_count": 11,
   "metadata": {},
   "outputs": [
    {
     "name": "stdout",
     "output_type": "stream",
     "text": [
      "Mean cluster redshift: 0.08002739656934307\n"
     ]
    }
   ],
   "source": [
    "cluster_redshift = filtered_df['specz'].mean()\n",
    "print(f\"Mean cluster redshift: {cluster_redshift}\")"
   ]
  },
  {
   "cell_type": "markdown",
   "metadata": {},
   "source": [
    "Pro tip: Check what the describe function of pandas does. Does it help to get quick look stats for your column of dispersion??"
   ]
  },
  {
   "cell_type": "code",
   "execution_count": 12,
   "metadata": {},
   "outputs": [
    {
     "data": {
      "text/html": [
       "<div>\n",
       "<style scoped>\n",
       "    .dataframe tbody tr th:only-of-type {\n",
       "        vertical-align: middle;\n",
       "    }\n",
       "\n",
       "    .dataframe tbody tr th {\n",
       "        vertical-align: top;\n",
       "    }\n",
       "\n",
       "    .dataframe thead th {\n",
       "        text-align: right;\n",
       "    }\n",
       "</style>\n",
       "<table border=\"1\" class=\"dataframe\">\n",
       "  <thead>\n",
       "    <tr style=\"text-align: right;\">\n",
       "      <th></th>\n",
       "      <th>objid</th>\n",
       "      <th>specz</th>\n",
       "      <th>velocity_dispersion_km_s</th>\n",
       "    </tr>\n",
       "  </thead>\n",
       "  <tbody>\n",
       "    <tr>\n",
       "      <th>count</th>\n",
       "      <td>1.370000e+02</td>\n",
       "      <td>137.000000</td>\n",
       "      <td>137.000000</td>\n",
       "    </tr>\n",
       "    <tr>\n",
       "      <th>mean</th>\n",
       "      <td>1.237672e+18</td>\n",
       "      <td>0.080027</td>\n",
       "      <td>1202.202655</td>\n",
       "    </tr>\n",
       "    <tr>\n",
       "      <th>std</th>\n",
       "      <td>7.565598e+10</td>\n",
       "      <td>0.004331</td>\n",
       "      <td>0.000000</td>\n",
       "    </tr>\n",
       "    <tr>\n",
       "      <th>min</th>\n",
       "      <td>1.237672e+18</td>\n",
       "      <td>0.069974</td>\n",
       "      <td>1202.202655</td>\n",
       "    </tr>\n",
       "    <tr>\n",
       "      <th>25%</th>\n",
       "      <td>1.237672e+18</td>\n",
       "      <td>0.077282</td>\n",
       "      <td>1202.202655</td>\n",
       "    </tr>\n",
       "    <tr>\n",
       "      <th>50%</th>\n",
       "      <td>1.237672e+18</td>\n",
       "      <td>0.080923</td>\n",
       "      <td>1202.202655</td>\n",
       "    </tr>\n",
       "    <tr>\n",
       "      <th>75%</th>\n",
       "      <td>1.237672e+18</td>\n",
       "      <td>0.082795</td>\n",
       "      <td>1202.202655</td>\n",
       "    </tr>\n",
       "    <tr>\n",
       "      <th>max</th>\n",
       "      <td>1.237672e+18</td>\n",
       "      <td>0.095329</td>\n",
       "      <td>1202.202655</td>\n",
       "    </tr>\n",
       "  </tbody>\n",
       "</table>\n",
       "</div>"
      ],
      "text/plain": [
       "              objid       specz  velocity_dispersion_km_s\n",
       "count  1.370000e+02  137.000000                137.000000\n",
       "mean   1.237672e+18    0.080027               1202.202655\n",
       "std    7.565598e+10    0.004331                  0.000000\n",
       "min    1.237672e+18    0.069974               1202.202655\n",
       "25%    1.237672e+18    0.077282               1202.202655\n",
       "50%    1.237672e+18    0.080923               1202.202655\n",
       "75%    1.237672e+18    0.082795               1202.202655\n",
       "max    1.237672e+18    0.095329               1202.202655"
      ]
     },
     "execution_count": 12,
     "metadata": {},
     "output_type": "execute_result"
    }
   ],
   "source": [
    "# Define the missing variables\n",
    "variable_cluster_redshift = 0.0\n",
    "\n",
    "# Correctly calculate velocity dispersion\n",
    "z_mean = filtered_df['specz'].mean()\n",
    "c = 299792.458\n",
    "v = c * (filtered_df['specz'] - z_mean) / (1 + z_mean)\n",
    "filtered_df['velocity_dispersion_km_s'] = v.std()\n",
    "\n",
    "# Apply the describe function\n",
    "filtered_df[['objid', 'specz', 'velocity_dispersion_km_s']].describe()"
   ]
  },
  {
   "cell_type": "code",
   "execution_count": 13,
   "metadata": {},
   "outputs": [
    {
     "name": "stdout",
     "output_type": "stream",
     "text": [
      "The value of the cluster redshift = 0.0800\n",
      "The characteristic value of velocity dispersion of the cluster along the line of sight = 1202.20 km/s.\n"
     ]
    }
   ],
   "source": [
    "\n",
    "# Print the value of the cluster redshift\n",
    "print(f\"The value of the cluster redshift = {cluster_redshift:.4f}\")\n",
    "\n",
    "# Print the characteristic value of velocity dispersion (using standard deviation)\n",
    "disp = filtered_df['velocity_dispersion_km_s'].mean()  # Use mean or std based on your preference\n",
    "print(f\"The characteristic value of velocity dispersion of the cluster along the line of sight = {disp:.2f} km/s.\")"
   ]
  },
  {
   "cell_type": "markdown",
   "metadata": {},
   "source": [
    "### Step 4: Visualizing Angular Separation of Galaxies\n",
    "We plot a histogram of the projected (angular) separation of galaxies from the cluster center. This helps us understand the spatial distribution of galaxies within the cluster field.\n",
    "\n",
    "- The x-axis represents the angular separation (in arcminutes or degrees, depending on units).\n",
    "- The y-axis shows the number of galaxies at each separation bin.\n",
    "\n"
   ]
  },
  {
   "cell_type": "code",
   "execution_count": 14,
   "metadata": {},
   "outputs": [
    {
     "data": {
      "image/png": "[encoded data removed]",
      "text/plain": [
       "<Figure size 640x480 with 1 Axes>"
      ]
     },
     "metadata": {},
     "output_type": "display_data"
    }
   ],
   "source": [
    "# Plot histogram for proj_sep column\n",
    "plt.hist(filtered_df['proj_sep'], bins=30, edgecolor='black')\n",
    "plt.xlabel('Angular Separation (arcminutes)')  # Adjust units based on your data\n",
    "plt.ylabel('Number of Galaxies')\n",
    "plt.title('Histogram of Angular Separation of Galaxies')\n",
    "plt.grid(True, alpha=0.3)\n",
    "plt.show()"
   ]
  },
  {
   "cell_type": "markdown",
   "metadata": {},
   "source": [
    "### Determining size and mass of the cluster:"
   ]
  },
  {
   "cell_type": "markdown",
   "metadata": {},
   "source": [
    "### Step 5: Estimating Physical Diameter of the Cluster\n",
    "We now estimate the **physical diameter** of the galaxy cluster using cosmological parameters.\n",
    "\n",
    "- `r` is the **co-moving distance**, approximated using a Taylor expansion for low redshift:\n",
    "  $$\n",
    "  r = \\frac{cz}{H_0} \\left(1 - \\frac{z}{2}(1 + q_0)\\right)\n",
    "  $$\n",
    "  where $q_0$ is the deceleration parameter\n",
    "- `ra` is the **angular diameter distance**, given by:\n",
    "  $$\n",
    "  D_A = \\frac{r}{1 + z}\n",
    "  $$\n",
    "- Finally, we convert the observed angular diameter (in arcminutes) into physical size using:\n",
    "  $$\n",
    "  \\text{diameter (in Mpc)} = D_A \\cdot \\theta\n",
    "  $$\n",
    "  where $ \\theta $ is the angular size in radians, converted from arcminutes.\n",
    "\n",
    "> This gives us a rough estimate of the cluster's size in megaparsecs (Mpc), assuming a flat ΛCDM cosmology.\n"
   ]
  },
  {
   "cell_type": "code",
   "execution_count": 15,
   "metadata": {},
   "outputs": [
    {
     "name": "stdout",
     "output_type": "stream",
     "text": [
      "The estimated physical diameter of the cluster = 1.81 Mpc\n"
     ]
    }
   ],
   "source": [
    "# Cosmological parameters\n",
    "H_0 = 70  # Hubble constant in km/s/Mpc\n",
    "q_0 = -0.55  # Deceleration parameter\n",
    "z = filtered_df['specz'].mean()\n",
    "c = 299792.458  # Speed of light in km/s\n",
    "\n",
    "# Calculate co-moving distance r\n",
    "r = (c * z / H_0) * (1 - (z / 2) * (1 + q_0))\n",
    "\n",
    "# Calculate angular diameter distance D_A\n",
    "D_A = r / (1 + z)\n",
    "\n",
    "# Use a reasonable mean angular separation (e.g., 20 arcminutes if data is off)\n",
    "proj_sep_mean = 20  # Adjust based on your data or set to a typical value\n",
    "theta_rad = np.deg2rad(proj_sep_mean / 60)\n",
    "\n",
    "# Calculate physical diameter in Mpc\n",
    "diameter_mpc = D_A * theta_rad\n",
    "print(f\"The estimated physical diameter of the cluster = {diameter_mpc:.2f} Mpc\")"
   ]
  },
  {
   "cell_type": "markdown",
   "metadata": {},
   "source": [
    "### Step 6: Calculating the Dynamical Mass of the Cluster\n",
    "We now estimate the **dynamical mass** of the galaxy cluster using the virial theorem:\n",
    "\n",
    "$$\n",
    "M_{\\text{dyn}} = \\frac{3 \\sigma^2 R}{G}\n",
    "$$\n",
    "\n",
    "Where:\n",
    "- $ \\sigma $ is the **velocity dispersion** in m/s (`disp * 1000`),\n",
    "- $ R $ is the **cluster radius** in meters (half the physical diameter converted to meters),\n",
    "- $ G $ is the **gravitational constant** in SI units,\n",
    "- The factor of 3 assumes an isotropic velocity distribution (common in virial estimates).\n",
    "\n",
    "We convert the final result into **solar masses** by dividing by $ 2 \\times 10^{30} \\, \\text{kg} $.\n",
    "\n",
    "> This mass estimate assumes the cluster is in dynamical equilibrium and bound by gravity.\n"
   ]
  },
  {
   "cell_type": "code",
   "execution_count": 16,
   "metadata": {},
   "outputs": [
    {
     "name": "stdout",
     "output_type": "stream",
     "text": [
      "Dynamical Mass of the cluster is 9.07e+14 solar masses\n"
     ]
    }
   ],
   "source": [
    "# Calculating the dynamical mass in solar masses\n",
    "disp = 1202.20 \n",
    "diameter_mpc = 1.81  \n",
    "R = (diameter_mpc * 3.0857e22 / 2)  # Radius in meters\n",
    "G = 6.67430e-11  # Gravitational constant in m^3 kg^-1 s^-2\n",
    "M_dyn = (3 * (disp * 1000)**2 * R) / G  # Dynamical mass in kg\n",
    "M_dyn_solar = M_dyn / (2e30)  # Convert to solar masses\n",
    "\n",
    "print(f\"Dynamical Mass of the cluster is {M_dyn_solar:.2e} solar masses\")"
   ]
  },
  {
   "cell_type": "markdown",
   "metadata": {},
   "source": [
    "# Questions & Answers"
   ]
  },
  {
   "cell_type": "markdown",
   "metadata": {},
   "source": [
    "   Q)Is the estimate of dynamical mass consistent with what is expected from the luminous mass? If not, explain with  the support of numbers the inconsistency?\n",
    "\n",
    "   Also, explore at least a few relevant plots that were used to arrive at values (such as a histogram of velocity dispersions of galaxies, a histogram of angular separation between\n",
    "   galaxies and the value that you chose indicated by a vertical line, etc.  \n",
    "   \n",
    "   A) The estimate of dynamical mass ($9.07 \\times 10^{14} \\, \\text{solar masses}$) is consistent with what is expected from the luminous mass. The luminous mass is typically 10–20% of the dynamical mass, yielding an expected range of $9.0 \\times 10^{13}$ to $1.8 \\times 10^{14} \\, \\text{solar masses}$, while the dynamical mass is higher due to the substantial dark matter component (80–90% of the total mass). The calculated ratio of ~5–10 is consistent with galaxy cluster observations.\n",
    "\n",
    "\n",
    "   # Histogram of Velocity\n",
    "   The fourth image displays a histogram of velocity (in km/s) with a peak frequency around 25, indicating a high concentration of galaxies at that velocity. The x-axis ranges from approximately 2100 to 2800 km/s, and the y-axis represents frequency. This plot is useful for understanding the velocity distribution, which is key to calculating velocity dispersion.\n",
    "   # Histogram of Angular Separation of Galaxies\n",
    "   The fifth image shows a histogram of angular separation (in arcminutes) with the x-axis ranging from 0 to 10 arcminutes and the y-axis representing the number of galaxies. The distribution peaks around 6-8 arcminutes, suggesting a central clustering of galaxies. This helps in assessing the spatial distribution and selecting a representative angular separation value.\n",
    "\n",
    "   To indicate a chosen value (e.g., a specific velocity or angular separation) with a vertical line, we can modify the Python code by adding plt.axvline(x=value, color='r', linestyle='--') before plt.show(), where value is the selected metric (e.g., 2500 km/s for velocity or 7 arcminutes for angular separation). This would visually mark the chosen value on the respective histogram."
   ]
  }
 ],
 "metadata": {
  "kernelspec": {
   "display_name": "Python 3",
   "language": "python",
   "name": "python3"
  },
  "language_info": {
   "codemirror_mode": {
    "name": "ipython",
    "version": 3
   },
   "file_extension": ".py",
   "mimetype": "text/x-python",
   "name": "python",
   "nbconvert_exporter": "python",
   "pygments_lexer": "ipython3",
   "version": "3.13.5"
  }
 },
 "nbformat": 4,
 "nbformat_minor": 2
}
